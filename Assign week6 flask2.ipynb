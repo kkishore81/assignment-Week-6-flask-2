{
 "cells": [
  {
   "cell_type": "code",
   "execution_count": null,
   "id": "602b7706-5095-49b9-b27e-c7eb31145daa",
   "metadata": {},
   "outputs": [],
   "source": [
    "# Q1. Explain GET and POST methods."
   ]
  },
  {
   "cell_type": "code",
   "execution_count": 1,
   "id": "267ae3fa-768b-4df2-99ed-914e29efbb27",
   "metadata": {},
   "outputs": [],
   "source": [
    "# GET method: Retrieves data from a server by sending a request with parameters in the URL, and the server responds with the requested data. It is used for read operations.\n",
    "\n",
    " # POST method: Sends data to a server to create or modify resources. Data is sent in the body of the HTTP request, commonly used for write operations, and is not idempotent."
   ]
  },
  {
   "cell_type": "code",
   "execution_count": null,
   "id": "707ee58b-7e34-4187-b6de-ce6bfd36211f",
   "metadata": {},
   "outputs": [],
   "source": [
    "Q2. Why is request used in Flask?"
   ]
  },
  {
   "cell_type": "code",
   "execution_count": 3,
   "id": "c52f18f6-91d6-4fda-aa1d-61d6d5b10854",
   "metadata": {},
   "outputs": [],
   "source": [
    "#In Flask, the request object is used to handle incoming HTTP requests from clients. It provides access to request data such as form data, query parameters, headers, and files. \n",
    "# This allows Flask applications to process and respond to client requests based on the provided data, enabling dynamic and interactive web applications."
   ]
  },
  {
   "cell_type": "code",
   "execution_count": null,
   "id": "c1f9ce23-ab3e-4d8c-84dc-56647079533a",
   "metadata": {},
   "outputs": [],
   "source": [
    "Q3. Why is redirect() used in Flask?"
   ]
  },
  {
   "cell_type": "code",
   "execution_count": 4,
   "id": "8a5ef09c-0651-46f2-b140-b3d6e6c743c3",
   "metadata": {},
   "outputs": [],
   "source": [
    "# The redirect() function in Flask is used to redirect the client to a different URL. It is typically used after processing a request to direct the client to another page or route. "
   ]
  },
  {
   "cell_type": "code",
   "execution_count": null,
   "id": "2e19e0f1-f4fe-45cb-99bf-73959c0028e4",
   "metadata": {},
   "outputs": [],
   "source": [
    "Q4. What are templates in Flask? Why is the render_template() function used?"
   ]
  },
  {
   "cell_type": "code",
   "execution_count": null,
   "id": "2242c256-2cbb-4fce-98f7-2f07e2596a51",
   "metadata": {},
   "outputs": [],
   "source": [
    " # Templates are files containing HTML or other markup languages that allow for dynamic content rendering. \n",
    " # They provide a way to separate the presentation logic from the application logic. \n",
    " # The render_template() function is used to render these templates, allowing the insertion of dynamic data into the HTML templates and generating dynamic web pages\n",
    " #   to be sent as a response to client requests."
   ]
  },
  {
   "cell_type": "code",
   "execution_count": null,
   "id": "fac87aac-8c17-42a2-a270-f6bfe7cf15f9",
   "metadata": {},
   "outputs": [],
   "source": [
    "Q5. Create a simple API. Use Postman to test it. Attach the screenshot of the output in the Jupyter Notebook."
   ]
  },
  {
   "cell_type": "code",
   "execution_count": 5,
   "id": "6c11ecfd-f81f-4426-ad5b-ff1aa0dbf2af",
   "metadata": {},
   "outputs": [],
   "source": [
    "# https://brown-plumber-mvcat.pwskills.app:5000/postman_data"
   ]
  },
  {
   "cell_type": "code",
   "execution_count": null,
   "id": "ad9e54c6-b29a-4545-8280-88c169e080d9",
   "metadata": {},
   "outputs": [],
   "source": [
    "# https://mango-hairdresser-qjxfz.pwskills.app/lab/tree/work/Postman.png"
   ]
  },
  {
   "cell_type": "code",
   "execution_count": null,
   "id": "2c44f526-6569-4454-8b7d-c6a6a7db78b8",
   "metadata": {},
   "outputs": [],
   "source": []
  }
 ],
 "metadata": {
  "kernelspec": {
   "display_name": "Python 3 (ipykernel)",
   "language": "python",
   "name": "python3"
  },
  "language_info": {
   "codemirror_mode": {
    "name": "ipython",
    "version": 3
   },
   "file_extension": ".py",
   "mimetype": "text/x-python",
   "name": "python",
   "nbconvert_exporter": "python",
   "pygments_lexer": "ipython3",
   "version": "3.10.8"
  }
 },
 "nbformat": 4,
 "nbformat_minor": 5
}
